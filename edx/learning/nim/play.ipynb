{
  "nbformat": 4,
  "nbformat_minor": 0,
  "metadata": {
    "colab": {
      "name": "play.ipynb",
      "provenance": [],
      "authorship_tag": "ABX9TyPtgeBvGsmZ+dzxDnquT7T6",
      "include_colab_link": true
    },
    "kernelspec": {
      "name": "python3",
      "display_name": "Python 3"
    }
  },
  "cells": [
    {
      "cell_type": "markdown",
      "metadata": {
        "id": "view-in-github",
        "colab_type": "text"
      },
      "source": [
        "<a href=\"https://colab.research.google.com/github/roronoazoro182/AI/blob/master/edx/learning/nim/play.ipynb\" target=\"_parent\"><img src=\"https://colab.research.google.com/assets/colab-badge.svg\" alt=\"Open In Colab\"/></a>"
      ]
    },
    {
      "cell_type": "code",
      "metadata": {
        "id": "SpSH8ry-Sysl"
      },
      "source": [
        "from nim import train, play\n",
        "\n",
        "ai = train(10000)\n",
        "play(ai)"
      ],
      "execution_count": null,
      "outputs": []
    }
  ]
}