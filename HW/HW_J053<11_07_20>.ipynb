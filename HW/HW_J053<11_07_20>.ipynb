{
  "nbformat": 4,
  "nbformat_minor": 0,
  "metadata": {
    "colab": {
      "name": "HW_J053<11-07-20>.ipynb",
      "provenance": [],
      "collapsed_sections": [],
      "authorship_tag": "ABX9TyOmuiYqXlFd3Xils2uJcOdj",
      "include_colab_link": true
    },
    "kernelspec": {
      "name": "python3",
      "display_name": "Python 3"
    }
  },
  "cells": [
    {
      "cell_type": "markdown",
      "metadata": {
        "id": "view-in-github",
        "colab_type": "text"
      },
      "source": [
        "<a href=\"https://colab.research.google.com/github/roronoazoro182/AI/blob/master/HW/HW_J053%3C11_07_20%3E.ipynb\" target=\"_parent\"><img src=\"https://colab.research.google.com/assets/colab-badge.svg\" alt=\"Open In Colab\"/></a>"
      ]
    },
    {
      "cell_type": "code",
      "metadata": {
        "id": "WCUvi4YdI5za",
        "colab_type": "code",
        "colab": {}
      },
      "source": [
        "# Create a custom class DataRead to read csv file using pandas\n",
        "# Create a custom function RowSelect within the class to select any 2 rows of the the the dataframe\n",
        "# Create a sub class of DataRead1 as  DataRead2  that has function for correlation plots (using any lib for correlation plot)\n",
        "# Within DataRead2 also create a function to override the custom function of DataRead1 RowSelect to select 3 rows"
      ],
      "execution_count": null,
      "outputs": []
    },
    {
      "cell_type": "code",
      "metadata": {
        "id": "ekunr6Lr2Cu6",
        "colab_type": "code",
        "colab": {}
      },
      "source": [
        "import pandas as pd\n",
        "import matplotlib.pyplot as plt\n",
        "import seaborn as sns"
      ],
      "execution_count": 48,
      "outputs": []
    },
    {
      "cell_type": "code",
      "metadata": {
        "id": "c1Vm0dBe2LEZ",
        "colab_type": "code",
        "colab": {
          "base_uri": "https://localhost:8080/",
          "height": 101
        },
        "outputId": "8ea90a03-1c68-4d01-debb-7b79ea559a58"
      },
      "source": [
        "class DataRead:\n",
        "  def __init__(self,file_name): \n",
        "    self.file_name = file_name\n",
        "  def read(self,colnames):     # method to read csv file\n",
        "    df = pd.read_csv(self.file_name,names = colnames)  \n",
        "    return df\n",
        "  def RowSelect(self,colnames):  # method to select first 2 rows of dataframe\n",
        "    df = self.read(colnames)\n",
        "    row2 = df.iloc[0:2,:]\n",
        "    return row2\n",
        "    \n",
        "headers = [\"symboling\",\"normalized-losses\",\"make\",\"fuel-type\",\"aspiration\", \"num-of-doors\",\"body-style\",\n",
        "\"drive-wheels\",\"engine-location\",\"wheel-base\", \"length\",\"width\",\"height\",\"curb-weight\",\"engine-type\",\n",
        "\"num-of-cylinders\", \"engine-size\",\"fuel-system\",\"bore\",\"stroke\",\"compression-ratio\",\"horsepower\",\n",
        "\"peak-rpm\",\"city-mpg\",\"highway-mpg\",\"price\"]\n",
        "\n",
        "f1 = DataRead(\"https://s3-api.us-geo.objectstorage.softlayer.net/cf-courses-data/CognitiveClass/DA0101EN/auto.csv\")\n",
        "df1 = f1.RowSelect(headers) \n",
        "print(df1)"
      ],
      "execution_count": 49,
      "outputs": [
        {
          "output_type": "stream",
          "text": [
            "   symboling normalized-losses         make  ... city-mpg highway-mpg  price\n",
            "0          3                 ?  alfa-romero  ...       21          27  13495\n",
            "1          3                 ?  alfa-romero  ...       21          27  16500\n",
            "\n",
            "[2 rows x 26 columns]\n"
          ],
          "name": "stdout"
        }
      ]
    },
    {
      "cell_type": "code",
      "metadata": {
        "id": "3GmuRLLL5c_x",
        "colab_type": "code",
        "colab": {
          "base_uri": "https://localhost:8080/",
          "height": 450
        },
        "outputId": "a194b827-9576-408b-ab56-57680c749e35"
      },
      "source": [
        "class Dataread2(DataRead):\n",
        "  def cor_plot(self,colnames): # plots correlation \n",
        "    df = self.read(colnames)\n",
        "    #fig,ax = plt.subplots()\n",
        "    cora = df.corr() \n",
        "    sns.heatmap(cora)\n",
        "    plt.show()\n",
        "  def RowSelect(self,colnames): # overrides the RowSelect function from DataRead and selects 3 rows\n",
        "    df = self.read(colnames)\n",
        "    row2 = df.iloc[0:3,:]\n",
        "    return row2  \n",
        "\n",
        "\n",
        "f2 = Dataread2(\"https://s3-api.us-geo.objectstorage.softlayer.net/cf-courses-data/CognitiveClass/DA0101EN/auto.csv\")\n",
        "#df2 = f2.read(headers)\n",
        "#print(df2.head())\n",
        "df2 = f2.RowSelect(headers) \n",
        "print(df2)\n",
        "f2.cor_plot(headers)"
      ],
      "execution_count": 50,
      "outputs": [
        {
          "output_type": "stream",
          "text": [
            "   symboling normalized-losses         make  ... city-mpg highway-mpg  price\n",
            "0          3                 ?  alfa-romero  ...       21          27  13495\n",
            "1          3                 ?  alfa-romero  ...       21          27  16500\n",
            "2          1                 ?  alfa-romero  ...       19          26  16500\n",
            "\n",
            "[3 rows x 26 columns]\n"
          ],
          "name": "stdout"
        },
        {
          "output_type": "display_data",
          "data": {
            "image/png": "[encoded data removed]",
            "text/plain": [
              "<Figure size 432x288 with 2 Axes>"
            ]
          },
          "metadata": {
            "tags": [],
            "needs_background": "light"
          }
        }
      ]
    }
  ]
}