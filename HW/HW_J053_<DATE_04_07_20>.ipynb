{
  "nbformat": 4,
  "nbformat_minor": 0,
  "metadata": {
    "colab": {
      "name": "HW_J053_<DATE 04-07-20>.ipynb",
      "provenance": [],
      "authorship_tag": "ABX9TyPZnuYSgWfWECpjjFOSe2f3",
      "include_colab_link": true
    },
    "kernelspec": {
      "name": "python3",
      "display_name": "Python 3"
    }
  },
  "cells": [
    {
      "cell_type": "markdown",
      "metadata": {
        "id": "view-in-github",
        "colab_type": "text"
      },
      "source": [
        "<a href=\"https://colab.research.google.com/github/roronoazoro182/AI/blob/master/HW/HW_J053_%3CDATE_04_07_20%3E.ipynb\" target=\"_parent\"><img src=\"https://colab.research.google.com/assets/colab-badge.svg\" alt=\"Open In Colab\"/></a>"
      ]
    },
    {
      "cell_type": "code",
      "metadata": {
        "id": "OzfJQLosB7CR",
        "colab_type": "code",
        "colab": {}
      },
      "source": [
        "#Print function\n",
        "#Oldcode:\n",
        "import sys\n",
        "N = int(sys.stdin.readline())\n",
        "l = \"\"\n",
        "for x in range(1,N+1):\n",
        "    l+= str(x)\n",
        "print(l)    \n",
        "#NewCode:\n",
        "if __name__ == '__main__':\n",
        "    n = int(input())\n",
        "l = ''\n",
        "for i in range(1,n+1):\n",
        "    l= l+str(i)\n",
        "print(int(l)) "
      ],
      "execution_count": null,
      "outputs": []
    },
    {
      "cell_type": "code",
      "metadata": {
        "id": "yOp9JpbQDA8D",
        "colab_type": "code",
        "colab": {}
      },
      "source": [
        "#Python If-Else\n",
        "#OldCode:\n",
        "#!/bin/python3\n",
        "\n",
        "n = int(input())\n",
        "if n%2 == 0 :\n",
        "    if n in range (2,6) :\n",
        "            print(\"Not Weird\")\n",
        "    elif n in range (6,21):\n",
        "            print(\"Weird\")\n",
        "    elif n > 20 :\n",
        "            print(\"Not Weird\")\n",
        "elif n%2 != 0 :\n",
        "    print(\"Weird\")\n",
        "elif n >100 :\n",
        "    print(\"Weird\")\n",
        "#NewcCode:\n",
        "import math\n",
        "import os\n",
        "import random\n",
        "import re\n",
        "import sys\n",
        "\n",
        "\n",
        "\n",
        "if __name__ == '__main__':\n",
        "    n = int(input().strip())\n",
        "\n",
        "if n%2 == 1:\n",
        "    print('Weird')\n",
        "elif n%2 == 0:        \n",
        "    if n in range(2,6):\n",
        "        print('Not Weird')\n",
        "    elif n in range(6,21):\n",
        "        print('Weird')\n",
        "    elif n > 20:\n",
        "        print('Not Weird')    "
      ],
      "execution_count": null,
      "outputs": []
    },
    {
      "cell_type": "code",
      "metadata": {
        "id": "-jmrqADgDb6c",
        "colab_type": "code",
        "colab": {}
      },
      "source": [
        "#Arithmetic Operators\n",
        "#Code\n",
        "import sys\n",
        "\n",
        "x=int(sys.stdin.readline()) #integer input\n",
        "\n",
        "y=int(sys.stdin.readline()) #double input\n",
        "\n",
        "sum = x + y\n",
        "print(sum)\n",
        "dif = x - y\n",
        "print(dif)\n",
        "mul = x*y\n",
        "print(mul)\n"
      ],
      "execution_count": null,
      "outputs": []
    },
    {
      "cell_type": "code",
      "metadata": {
        "id": "_CR-q84JGTZw",
        "colab_type": "code",
        "colab": {}
      },
      "source": [
        "#Loops\n",
        "#Code:\n",
        "import sys\n",
        "N = int(sys.stdin.readline())\n",
        "\n",
        "count = 0\n",
        "while count < N and N in range (1,21):\n",
        "    print(count*count)\n",
        "    count += 1\n",
        "#NewCode:\n",
        "if __name__ == '__main__':\n",
        "    n = int(input())\n",
        "for i in range(n):\n",
        "    print(i**2)       "
      ],
      "execution_count": null,
      "outputs": []
    },
    {
      "cell_type": "code",
      "metadata": {
        "id": "gTZz31YAGb-G",
        "colab_type": "code",
        "colab": {}
      },
      "source": [
        "#Division\n",
        "#Code:\n",
        "import sys\n",
        "N = int(sys.stdin.readline())\n",
        "\n",
        "count = 0\n",
        "while count < N and N in range (1,21):\n",
        "    print(count*count)\n",
        "    count += 1  \n",
        "#Newcode:\n",
        "if __name__ == '__main__':\n",
        "    a = int(input())\n",
        "    b = int(input())\n",
        "print(a//b)\n",
        "print(a/b)       "
      ],
      "execution_count": null,
      "outputs": []
    },
    {
      "cell_type": "code",
      "metadata": {
        "id": "uACyJx6SGvsN",
        "colab_type": "code",
        "colab": {}
      },
      "source": [
        "#List comprehension\n",
        "#Code:\n",
        "if __name__ == '__main__':\n",
        "    x = int(input())\n",
        "    y = int(input())\n",
        "    z = int(input())\n",
        "    n = int(input())\n",
        "\n",
        "i_range = [i for i in range(x+1)]\n",
        "j_range = [j for j in range(y+1)]\n",
        "k_range = [k for k in range(z+1)]\n",
        "\n",
        "coord = []\n",
        "for i in i_range:\n",
        "    for j in j_range:\n",
        "        for k in k_range:\n",
        "            coord.append([i,j,k])\n",
        "\n",
        "#coord = list(zip(i_range,j_range,k_range))\n",
        "#coord_list = [list(x) for x in coord]\n",
        "\n",
        "print([x for x in coord if x[0]+x[1]+x[2]!=n ])"
      ],
      "execution_count": null,
      "outputs": []
    }
  ]
}