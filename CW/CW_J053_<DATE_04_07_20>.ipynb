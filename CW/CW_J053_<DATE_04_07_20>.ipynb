{
  "nbformat": 4,
  "nbformat_minor": 0,
  "metadata": {
    "colab": {
      "name": "CW_J053_<DATE 04-07-20>.ipynb",
      "provenance": [],
      "authorship_tag": "ABX9TyMOCN3xR3K3zC4FfuwGAEhl",
      "include_colab_link": true
    },
    "kernelspec": {
      "name": "python3",
      "display_name": "Python 3"
    }
  },
  "cells": [
    {
      "cell_type": "markdown",
      "metadata": {
        "id": "view-in-github",
        "colab_type": "text"
      },
      "source": [
        "<a href=\"https://colab.research.google.com/github/roronoazoro182/AI/blob/master/CW/CW_J053_%3CDATE_04_07_20%3E.ipynb\" target=\"_parent\"><img src=\"https://colab.research.google.com/assets/colab-badge.svg\" alt=\"Open In Colab\"/></a>"
      ]
    },
    {
      "cell_type": "code",
      "metadata": {
        "id": "cFO4TVoEFtG3",
        "colab_type": "code",
        "colab": {
          "base_uri": "https://localhost:8080/",
          "height": 34
        },
        "outputId": "26094f48-c2d0-418d-cf1c-693f376acaa4"
      },
      "source": [
        "tup = (1,2,3,'go')\n",
        "print(tup)"
      ],
      "execution_count": 21,
      "outputs": [
        {
          "output_type": "stream",
          "text": [
            "(1, 2, 3, 'go')\n"
          ],
          "name": "stdout"
        }
      ]
    },
    {
      "cell_type": "code",
      "metadata": {
        "id": "Q709e14LHACx",
        "colab_type": "code",
        "colab": {
          "base_uri": "https://localhost:8080/",
          "height": 34
        },
        "outputId": "ba0d45fb-99bd-4372-83d8-529c87e267fe"
      },
      "source": [
        "s = {1,2,4,5}\n",
        "#set can contain only one type of item\n",
        "a = {'1','2','a','b',1,1.2,False,True}\n",
        "#b = {[1,2,3]}\n",
        "c = {(1,2,3)}\n",
        "#d = {{'abhishek':'swain'}}\n",
        "t = {True,False,1.2}\n",
        "a.intersection(t)\n",
        "s.union(c)"
      ],
      "execution_count": 35,
      "outputs": [
        {
          "output_type": "execute_result",
          "data": {
            "text/plain": [
              "{(1, 2, 3), 1, 2, 4, 5}"
            ]
          },
          "metadata": {
            "tags": []
          },
          "execution_count": 35
        }
      ]
    },
    {
      "cell_type": "code",
      "metadata": {
        "id": "Fs5bMbAhQu6A",
        "colab_type": "code",
        "colab": {
          "base_uri": "https://localhost:8080/",
          "height": 34
        },
        "outputId": "0ff0af33-24b6-4f4c-868a-5d92adef7a74"
      },
      "source": [
        "s = {1,2,4,5}\n",
        "s.add(6)\n",
        "s"
      ],
      "execution_count": 40,
      "outputs": [
        {
          "output_type": "execute_result",
          "data": {
            "text/plain": [
              "{1, 2, 4, 5, 6}"
            ]
          },
          "metadata": {
            "tags": []
          },
          "execution_count": 40
        }
      ]
    },
    {
      "cell_type": "code",
      "metadata": {
        "id": "XaFgjfiuGJtn",
        "colab_type": "code",
        "colab": {
          "base_uri": "https://localhost:8080/",
          "height": 34
        },
        "outputId": "481dad8a-f380-4e71-f960-2ba16458368e"
      },
      "source": [
        "lis = [1,2,3]\n",
        "lis.append(4) \n",
        "print(lis)"
      ],
      "execution_count": 4,
      "outputs": [
        {
          "output_type": "stream",
          "text": [
            "[1, 2, 3, 4]\n"
          ],
          "name": "stdout"
        }
      ]
    }
  ]
}