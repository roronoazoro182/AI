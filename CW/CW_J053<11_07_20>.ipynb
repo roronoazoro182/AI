{
  "nbformat": 4,
  "nbformat_minor": 0,
  "metadata": {
    "colab": {
      "name": "CW_J053<11-07-20>.ipynb",
      "provenance": [],
      "authorship_tag": "ABX9TyPnXKY7KUr0+Ybp7oJq56In",
      "include_colab_link": true
    },
    "kernelspec": {
      "name": "python3",
      "display_name": "Python 3"
    }
  },
  "cells": [
    {
      "cell_type": "markdown",
      "metadata": {
        "id": "view-in-github",
        "colab_type": "text"
      },
      "source": [
        "<a href=\"https://colab.research.google.com/github/roronoazoro182/AI/blob/master/CW/CW_J053%3C11_07_20%3E.ipynb\" target=\"_parent\"><img src=\"https://colab.research.google.com/assets/colab-badge.svg\" alt=\"Open In Colab\"/></a>"
      ]
    },
    {
      "cell_type": "code",
      "metadata": {
        "id": "yWxcb3HdIpvO",
        "colab_type": "code",
        "colab": {}
      },
      "source": [
        "class Student:\n",
        "  def __init__(self,name):\n",
        "    self.__name = name\n",
        "  def printname(self):\n",
        "    print(self.__name)  \n",
        "s1 = Student('Abhishek') \n",
        "s1._Student__name\n",
        "#print(s1.__name)"
      ],
      "execution_count": null,
      "outputs": []
    }
  ]
}